{
 "cells": [
  {
   "cell_type": "code",
   "execution_count": null,
   "id": "e3ff2759",
   "metadata": {},
   "outputs": [],
   "source": [
    "import os\n",
    "import glob\n",
    "import cv2\n",
    "import json\n",
    "import numpy as np \n",
    "import pandas as pd \n",
    "import matplotlib.pyplot as plt\n",
    "from shapely import wkt\n",
    "from shapely.geometry.multipolygon import MultiPolygon\n",
    "from PIL import Image"
   ]
  },
  {
   "cell_type": "code",
   "execution_count": null,
   "id": "5ba4fa49",
   "metadata": {},
   "outputs": [],
   "source": [
    "LABEL_PATH = \"./labels/\"\n",
    "IMAGE_PATH = \"./images/\"\n",
    "MASK_PATH = \"./masks/mask/\"\n",
    "IMAGE_TRAIN_PATH = \"./timages/img\""
   ]
  },
  {
   "cell_type": "code",
   "execution_count": null,
   "id": "5cb8123d",
   "metadata": {},
   "outputs": [],
   "source": [
    "labels = glob.glob(LABEL_PATH + \"*pre_disaster.json\")"
   ]
  },
  {
   "cell_type": "code",
   "execution_count": null,
   "id": "778023a2",
   "metadata": {},
   "outputs": [],
   "source": [
    "if not os.path.isdir(MASK_PATH):\n",
    "    os.makedirs(MASK_PATH)\n",
    "if not os.path.isdir(IMAGE_TRAIN_PATH):\n",
    "    os.makedirs(IMAGE_TRAIN_PATH)"
   ]
  },
  {
   "cell_type": "code",
   "execution_count": null,
   "id": "3495f90f",
   "metadata": {},
   "outputs": [],
   "source": [
    "def read_json(fname):\n",
    "    with open(fname) as json_file:\n",
    "        data_json = json.load(json_file)\n",
    "        return data_json"
   ]
  },
  {
   "cell_type": "code",
   "execution_count": null,
   "id": "d96c17d8",
   "metadata": {},
   "outputs": [],
   "source": [
    "def check_building(img, elements):\n",
    "    try:\n",
    "        polygon = wkt.loads(elements)\n",
    "        x, y = polygon.exterior.coords.xy\n",
    "\n",
    "        bbox = {\n",
    "            'x_min': round(min(x.tolist())), \n",
    "            'x_max': round(max(x.tolist())), \n",
    "            'y_min': round(min(y.tolist())), \n",
    "            'y_max': round(max(y.tolist()))\n",
    "        }\n",
    "\n",
    "\n",
    "        cut_image = Image.fromarray(img[bbox['y_min']:bbox['y_max'], bbox['x_min']:bbox['x_max']])\n",
    "\n",
    "        avg_color_per_row = np.average(cut_image, axis=0)\n",
    "        avg_color = np.average(avg_color_per_row, axis=0)\n",
    "\n",
    "        if avg_color[0] > 10 and avg_color[1] > 10 and avg_color[2] > 10: \n",
    "            return True\n",
    "        else:\n",
    "            return False\n",
    "    except:\n",
    "        return False"
   ]
  },
  {
   "cell_type": "code",
   "execution_count": null,
   "id": "370d293f",
   "metadata": {},
   "outputs": [],
   "source": [
    "def create_mask(fdata):\n",
    "    imgname = fdata['metadata']['img_name']\n",
    "    img = cv2.imread(IMAGE_PATH + imgname)\n",
    "    mask = np.zeros(list(PDIM))\n",
    "    for cord in fdata['features']['xy']:\n",
    "        elements = wkt.loads(cord['wkt'])\n",
    "        build = check_building(img, cord['wkt'])\n",
    "        if build:\n",
    "            x, y = elements.exterior.coords.xy\n",
    "            points = np.array(list(zip(x, y)))\n",
    "            mask = cv2.fillPoly(mask, np.int32([points]), color=(255))\n",
    "    cv2.imwrite(IMAGE_TRAIN_PATH + imgname, img)\n",
    "    cv2.imwrite(MASK_PATH + imgname, mask)"
   ]
  },
  {
   "cell_type": "code",
   "execution_count": null,
   "id": "ff6cb0b6",
   "metadata": {},
   "outputs": [],
   "source": [
    "def create_training_images(files):\n",
    "    for image in files:\n",
    "        data = read_json(image)\n",
    "        create_mask(data)"
   ]
  },
  {
   "cell_type": "code",
   "execution_count": null,
   "id": "273d4038",
   "metadata": {},
   "outputs": [],
   "source": [
    "create_training_images(labels)"
   ]
  }
 ],
 "metadata": {
  "kernelspec": {
   "display_name": "Python 3 (ipykernel)",
   "language": "python",
   "name": "python3"
  },
  "language_info": {
   "codemirror_mode": {
    "name": "ipython",
    "version": 3
   },
   "file_extension": ".py",
   "mimetype": "text/x-python",
   "name": "python",
   "nbconvert_exporter": "python",
   "pygments_lexer": "ipython3",
   "version": "3.10.9"
  }
 },
 "nbformat": 4,
 "nbformat_minor": 5
}
