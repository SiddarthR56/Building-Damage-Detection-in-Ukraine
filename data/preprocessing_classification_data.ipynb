{
 "cells": [
  {
   "cell_type": "code",
   "execution_count": 43,
   "metadata": {},
   "outputs": [],
   "source": [
    "import pandas as pd \n",
    "import json \n",
    "import numpy as np \n",
    "\n",
    "import os\n",
    "from tqdm import tqdm"
   ]
  },
  {
   "attachments": {},
   "cell_type": "markdown",
   "metadata": {},
   "source": [
    "### Grab the buildings identified within each image"
   ]
  },
  {
   "cell_type": "code",
   "execution_count": 44,
   "metadata": {},
   "outputs": [],
   "source": [
    "dir_path = \"train/labels/\"\n",
    "training_labels = os.listdir(dir_path)\n",
    "sample = training_labels[0:100]"
   ]
  },
  {
   "cell_type": "code",
   "execution_count": 45,
   "metadata": {},
   "outputs": [],
   "source": [
    "df = pd.DataFrame(columns = ['image_name', 'classification', 'uid', 'polygon'])\n",
    "for path in sample: \n",
    "    d = pd.read_json(dir_path + path)\n",
    "    # look to see if a feature is identified in this image \n",
    "    ll = d['features']['xy']\n",
    "    if len(ll) > 0: \n",
    "        # look to see if any of these features are buildings \n",
    "        for i in range(0, len(ll)): \n",
    "            if ll[i]['properties']['feature_type'] == 'building' and 'subtype' in ll[i]['properties'].keys(): \n",
    "                add = {'image_name': training_labels[1], 'classification': ll[i]['properties']['subtype'], 'uid': ll[i]['properties']['uid'], 'polygon': ll[i]['wkt']}\n",
    "                df.loc[len(df.index)] = add"
   ]
  },
  {
   "cell_type": "code",
   "execution_count": 46,
   "metadata": {},
   "outputs": [
    {
     "data": {
      "text/plain": [
       "no-damage        2473\n",
       "minor-damage      358\n",
       "destroyed         270\n",
       "major-damage      180\n",
       "un-classified      91\n",
       "Name: classification, dtype: int64"
      ]
     },
     "execution_count": 46,
     "metadata": {},
     "output_type": "execute_result"
    }
   ],
   "source": [
    "df['classification'].value_counts()"
   ]
  },
  {
   "cell_type": "code",
   "execution_count": 47,
   "metadata": {},
   "outputs": [
    {
     "data": {
      "text/html": [
       "<div>\n",
       "<style scoped>\n",
       "    .dataframe tbody tr th:only-of-type {\n",
       "        vertical-align: middle;\n",
       "    }\n",
       "\n",
       "    .dataframe tbody tr th {\n",
       "        vertical-align: top;\n",
       "    }\n",
       "\n",
       "    .dataframe thead th {\n",
       "        text-align: right;\n",
       "    }\n",
       "</style>\n",
       "<table border=\"1\" class=\"dataframe\">\n",
       "  <thead>\n",
       "    <tr style=\"text-align: right;\">\n",
       "      <th></th>\n",
       "      <th>image_name</th>\n",
       "      <th>classification</th>\n",
       "      <th>uid</th>\n",
       "      <th>polygon</th>\n",
       "    </tr>\n",
       "  </thead>\n",
       "  <tbody>\n",
       "    <tr>\n",
       "      <th>0</th>\n",
       "      <td>midwest-flooding_00000308_post_disaster.json</td>\n",
       "      <td>no-damage</td>\n",
       "      <td>3350c4e6-e7dc-4313-8b23-59233a6e2078</td>\n",
       "      <td>POLYGON ((319.9690811897951 118.8051167728774,...</td>\n",
       "    </tr>\n",
       "    <tr>\n",
       "      <th>1</th>\n",
       "      <td>midwest-flooding_00000308_post_disaster.json</td>\n",
       "      <td>no-damage</td>\n",
       "      <td>4ac81fae-312a-4050-bd41-92f677311b09</td>\n",
       "      <td>POLYGON ((448.3688195265795 92.6786134661785, ...</td>\n",
       "    </tr>\n",
       "    <tr>\n",
       "      <th>2</th>\n",
       "      <td>midwest-flooding_00000308_post_disaster.json</td>\n",
       "      <td>no-damage</td>\n",
       "      <td>bcfa6989-a2b4-4aa6-a1f9-6adc62301b6c</td>\n",
       "      <td>POLYGON ((862.4316509232316 13.3651563899852, ...</td>\n",
       "    </tr>\n",
       "    <tr>\n",
       "      <th>3</th>\n",
       "      <td>midwest-flooding_00000308_post_disaster.json</td>\n",
       "      <td>no-damage</td>\n",
       "      <td>497560fe-6da5-4826-a443-cd76fa4f2f86</td>\n",
       "      <td>POLYGON ((898.5940151494626 38.91158143295991,...</td>\n",
       "    </tr>\n",
       "    <tr>\n",
       "      <th>4</th>\n",
       "      <td>midwest-flooding_00000308_post_disaster.json</td>\n",
       "      <td>no-damage</td>\n",
       "      <td>2d171f2b-c103-42d2-b1a4-8e954bbceaef</td>\n",
       "      <td>POLYGON ((927.1242390329007 30.31084096671428,...</td>\n",
       "    </tr>\n",
       "  </tbody>\n",
       "</table>\n",
       "</div>"
      ],
      "text/plain": [
       "                                     image_name classification  \\\n",
       "0  midwest-flooding_00000308_post_disaster.json      no-damage   \n",
       "1  midwest-flooding_00000308_post_disaster.json      no-damage   \n",
       "2  midwest-flooding_00000308_post_disaster.json      no-damage   \n",
       "3  midwest-flooding_00000308_post_disaster.json      no-damage   \n",
       "4  midwest-flooding_00000308_post_disaster.json      no-damage   \n",
       "\n",
       "                                    uid  \\\n",
       "0  3350c4e6-e7dc-4313-8b23-59233a6e2078   \n",
       "1  4ac81fae-312a-4050-bd41-92f677311b09   \n",
       "2  bcfa6989-a2b4-4aa6-a1f9-6adc62301b6c   \n",
       "3  497560fe-6da5-4826-a443-cd76fa4f2f86   \n",
       "4  2d171f2b-c103-42d2-b1a4-8e954bbceaef   \n",
       "\n",
       "                                             polygon  \n",
       "0  POLYGON ((319.9690811897951 118.8051167728774,...  \n",
       "1  POLYGON ((448.3688195265795 92.6786134661785, ...  \n",
       "2  POLYGON ((862.4316509232316 13.3651563899852, ...  \n",
       "3  POLYGON ((898.5940151494626 38.91158143295991,...  \n",
       "4  POLYGON ((927.1242390329007 30.31084096671428,...  "
      ]
     },
     "execution_count": 47,
     "metadata": {},
     "output_type": "execute_result"
    }
   ],
   "source": [
    "df.head()"
   ]
  },
  {
   "attachments": {},
   "cell_type": "markdown",
   "metadata": {},
   "source": [
    "### Restrict image to bounding box area "
   ]
  },
  {
   "cell_type": "markdown",
   "metadata": {},
   "source": []
  }
 ],
 "metadata": {
  "kernelspec": {
   "display_name": "my_venv",
   "language": "python",
   "name": "my_venv"
  },
  "language_info": {
   "codemirror_mode": {
    "name": "ipython",
    "version": 3
   },
   "file_extension": ".py",
   "mimetype": "text/x-python",
   "name": "python",
   "nbconvert_exporter": "python",
   "pygments_lexer": "ipython3",
   "version": "3.8.9"
  },
  "orig_nbformat": 4
 },
 "nbformat": 4,
 "nbformat_minor": 2
}
