{
 "cells": [
  {
   "cell_type": "code",
   "execution_count": 3,
   "metadata": {},
   "outputs": [],
   "source": [
    "import pandas as pd\n",
    "from pystac_client import Client\n",
    "from shapely.geometry import Point, Polygon\n",
    "import rioxarray"
   ]
  },
  {
   "cell_type": "code",
   "execution_count": 4,
   "metadata": {},
   "outputs": [
    {
     "name": "stdout",
     "output_type": "stream",
     "text": [
      "780\n",
      "10\n"
     ]
    }
   ],
   "source": [
    "api_url = \"https://earth-search.aws.element84.com/v0\"\n",
    "\n",
    "client = Client.open(api_url)\n",
    "collection = \"sentinel-s2-l2a-cogs\" \n",
    "\n",
    "point = Point(4.89, 52.37)\n",
    "# poly = Polygon(390633.10289572447,5224916.541597763,391199.0981750366,5226182.439556519)\n",
    "search = client.search(\n",
    "    collections=[collection],\n",
    "    intersects=point,\n",
    "    max_items=5,\n",
    ")\n",
    "print(search.matched())\n",
    "\n",
    "items = search.get_all_items()\n",
    "\n",
    "print(len(items))"
   ]
  },
  {
   "cell_type": "code",
   "execution_count": 5,
   "metadata": {},
   "outputs": [
    {
     "name": "stdout",
     "output_type": "stream",
     "text": [
      "dict_keys(['thumbnail', 'overview', 'info', 'metadata', 'visual', 'B01', 'B02', 'B03', 'B04', 'B05', 'B06', 'B07', 'B08', 'B8A', 'B09', 'B11', 'B12', 'AOT', 'WVP', 'SCL'])\n"
     ]
    }
   ],
   "source": [
    "assets = items[0].assets  # first item's asset dictionary\n",
    "print(assets.keys())"
   ]
  },
  {
   "cell_type": "code",
   "execution_count": 6,
   "metadata": {},
   "outputs": [
    {
     "name": "stdout",
     "output_type": "stream",
     "text": [
      "thumbnail: Thumbnail\n",
      "overview: True color image\n",
      "info: Original JSON metadata\n",
      "metadata: Original XML metadata\n",
      "visual: True color image\n",
      "B01: Band 1 (coastal)\n",
      "B02: Band 2 (blue)\n",
      "B03: Band 3 (green)\n",
      "B04: Band 4 (red)\n",
      "B05: Band 5\n",
      "B06: Band 6\n",
      "B07: Band 7\n",
      "B08: Band 8 (nir)\n",
      "B8A: Band 8A\n",
      "B09: Band 9\n",
      "B11: Band 11 (swir16)\n",
      "B12: Band 12 (swir22)\n",
      "AOT: Aerosol Optical Thickness (AOT)\n",
      "WVP: Water Vapour (WVP)\n",
      "SCL: Scene Classification Map (SCL)\n"
     ]
    }
   ],
   "source": [
    "for key, asset in assets.items():\n",
    "    print(f\"{key}: {asset.title}\")"
   ]
  },
  {
   "cell_type": "code",
   "execution_count": 9,
   "metadata": {},
   "outputs": [
    {
     "name": "stdout",
     "output_type": "stream",
     "text": [
      "<xarray.DataArray (band: 1, y: 1830, x: 1830)>\n",
      "[3348900 values with dtype=uint16]\n",
      "Coordinates:\n",
      "  * band         (band) int64 1\n",
      "  * x            (x) float64 6e+05 6.001e+05 6.002e+05 ... 7.097e+05 7.098e+05\n",
      "  * y            (y) float64 5.9e+06 5.9e+06 5.9e+06 ... 5.79e+06 5.79e+06\n",
      "    spatial_ref  int64 0\n",
      "Attributes:\n",
      "    AREA_OR_POINT:       Area\n",
      "    OVR_RESAMPLING_ALG:  AVERAGE\n",
      "    _FillValue:          0\n",
      "    scale_factor:        1.0\n",
      "    add_offset:          0.0\n"
     ]
    }
   ],
   "source": [
    "b01_href = assets[\"B01\"].href\n",
    "b01 = rioxarray.open_rasterio(b01_href)\n",
    "print(b01)"
   ]
  },
  {
   "cell_type": "code",
   "execution_count": 10,
   "metadata": {},
   "outputs": [],
   "source": [
    "b01.rio.to_raster(\"B01.tif\")"
   ]
  },
  {
   "cell_type": "code",
   "execution_count": 11,
   "metadata": {},
   "outputs": [
    {
     "name": "stdout",
     "output_type": "stream",
     "text": [
      "3930\n",
      "5\n"
     ]
    }
   ],
   "source": [
    "api_url = \"https://earth-search.aws.element84.com/v0\"\n",
    "\n",
    "client = Client.open(api_url)\n",
    "collection = \"sentinel-s2-l2a-cogs\" \n",
    "\n",
    "point = Point(4.89, 52.37)\n",
    "# poly = Polygon(390633.10289572447,5224916.541597763,391199.0981750366,5226182.439556519)\n",
    "search = client.search(\n",
    "    collections=[collection],\n",
    "    bbox = [390633.10289572447,5224916.541597763,391199.0981750366,5226182.439556519], \n",
    "    datetime=['2022-03-21T00:00:00Z', '2022-03-22T00:00:00Z'],\n",
    "    max_items=5,\n",
    ")\n",
    "print(search.matched())\n",
    "\n",
    "items = search.get_all_items()\n",
    "\n",
    "print(len(items))\n",
    "\n",
    "\n"
   ]
  },
  {
   "cell_type": "code",
   "execution_count": 12,
   "metadata": {},
   "outputs": [
    {
     "name": "stdout",
     "output_type": "stream",
     "text": [
      "dict_keys(['thumbnail', 'overview', 'info', 'metadata', 'visual', 'B01', 'B02', 'B03', 'B04', 'B05', 'B06', 'B07', 'B08', 'B8A', 'B09', 'B11', 'B12', 'AOT', 'WVP', 'SCL'])\n",
      "thumbnail: Thumbnail\n",
      "overview: True color image\n",
      "info: Original JSON metadata\n",
      "metadata: Original XML metadata\n",
      "visual: True color image\n",
      "B01: Band 1 (coastal)\n",
      "B02: Band 2 (blue)\n",
      "B03: Band 3 (green)\n",
      "B04: Band 4 (red)\n",
      "B05: Band 5\n",
      "B06: Band 6\n",
      "B07: Band 7\n",
      "B08: Band 8 (nir)\n",
      "B8A: Band 8A\n",
      "B09: Band 9\n",
      "B11: Band 11 (swir16)\n",
      "B12: Band 12 (swir22)\n",
      "AOT: Aerosol Optical Thickness (AOT)\n",
      "WVP: Water Vapour (WVP)\n",
      "SCL: Scene Classification Map (SCL)\n"
     ]
    }
   ],
   "source": [
    "assets = items[0].assets  # first item's asset dictionary\n",
    "print(assets.keys())\n",
    "\n",
    "for key, asset in assets.items():\n",
    "    print(f\"{key}: {asset.title}\")"
   ]
  },
  {
   "cell_type": "code",
   "execution_count": 17,
   "metadata": {},
   "outputs": [
    {
     "name": "stdout",
     "output_type": "stream",
     "text": [
      "<xarray.DataArray (band: 3, y: 10980, x: 10980)>\n",
      "[361681200 values with dtype=uint8]\n",
      "Coordinates:\n",
      "  * band         (band) int64 1 2 3\n",
      "  * x            (x) float64 6e+05 6e+05 6e+05 ... 7.098e+05 7.098e+05 7.098e+05\n",
      "  * y            (y) float64 5.4e+06 5.4e+06 5.4e+06 ... 5.29e+06 5.29e+06\n",
      "    spatial_ref  int64 0\n",
      "Attributes:\n",
      "    AREA_OR_POINT:       Area\n",
      "    OVR_RESAMPLING_ALG:  AVERAGE\n",
      "    _FillValue:          0\n",
      "    scale_factor:        1.0\n",
      "    add_offset:          0.0\n"
     ]
    }
   ],
   "source": [
    "b01_href = assets[\"visual\"].href\n",
    "b01 = rioxarray.open_rasterio(b01_href)\n",
    "print(b01)"
   ]
  },
  {
   "cell_type": "code",
   "execution_count": 18,
   "metadata": {},
   "outputs": [],
   "source": [
    "b01.rio.to_raster(\"B01.tif\")"
   ]
  }
 ],
 "metadata": {
  "kernelspec": {
   "display_name": "my_venv",
   "language": "python",
   "name": "my_venv"
  },
  "language_info": {
   "codemirror_mode": {
    "name": "ipython",
    "version": 3
   },
   "file_extension": ".py",
   "mimetype": "text/x-python",
   "name": "python",
   "nbconvert_exporter": "python",
   "pygments_lexer": "ipython3",
   "version": "3.8.9"
  },
  "orig_nbformat": 4
 },
 "nbformat": 4,
 "nbformat_minor": 2
}
