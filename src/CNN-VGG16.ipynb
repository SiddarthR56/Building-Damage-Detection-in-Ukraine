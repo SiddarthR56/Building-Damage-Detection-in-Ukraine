{
 "cells": [
  {
   "cell_type": "code",
   "execution_count": null,
   "id": "c291a21d",
   "metadata": {},
   "outputs": [],
   "source": [
    "import os\n",
    "import cv2\n",
    "import numpy as np\n",
    "import tifffile as tiff\n",
    "import tensorflow.keras\n",
    "from tensorflow.keras.models import Sequential, Model\n",
    "from tensorflow.keras.layers import  Dropout, Input, Dense, Flatten\n",
    "from tensorflow.keras.optimizers import Adam\n",
    "from tensorflow.keras.metrics import categorical_crossentropy\n",
    "from tensorflow.keras.preprocessing.image import ImageDataGenerator"
   ]
  },
  {
   "cell_type": "code",
   "execution_count": null,
   "id": "54729109",
   "metadata": {},
   "outputs": [],
   "source": [
    "#Variables\n",
    "VAL_SPLIT = 0.2\n",
    "BATCH_SIZE = 32\n",
    "READ_SIZE = (128, 128)\n",
    "MODEL_INPSHAPE = (128, 128, 3)\n",
    "LABEL_CLASSES = ['no-damage', 'minor-damage', 'major-damage', 'destroyed', 'un-classfied']\n",
    "NUM_LABELS = len(LABEL_CLASSES)\n",
    "TRAIN_DIR = \"\"\n",
    "TEST_DIR = \"\""
   ]
  },
  {
   "cell_type": "code",
   "execution_count": null,
   "id": "07d8043c",
   "metadata": {},
   "outputs": [],
   "source": [
    "#Read Images\n",
    "train_data = ImageDataGenerator(validation_split=VAL_SPLIT)\n",
    "test_data = ImageDataGenerator()\n",
    "\n",
    "train_gen = image_data.flow_from_directory(TRAIN_DIR, target_size=READ_SIZE, class_mode=LABEL_CLASSES, \n",
    "                                           batch_size=BATCH_SIZE)\n",
    "val_gen = image_data.flow_from_directory(TRAIN_DIR, target_size=READ_SIZE, class_mode=LABEL_CLASSES, \n",
    "                                           batch_size=BATCH_SIZE)\n",
    "test_gen = image_data.flow_from_directory(TEST_DIR, target_size=READ_SIZE, class_mode=LABEL_CLASSES, \n",
    "                                          batch_size=BATCH_SIZE)\n"
   ]
  },
  {
   "cell_type": "code",
   "execution_count": null,
   "id": "3a14f03b",
   "metadata": {},
   "outputs": [],
   "source": [
    "#Visualize the images\n",
    "tiff.imshow(test_gen.next()[0])"
   ]
  },
  {
   "cell_type": "code",
   "execution_count": null,
   "id": "c80817a2",
   "metadata": {},
   "outputs": [],
   "source": [
    "#vgg model with pretrained weights\n",
    "def create_vgg16_model():\n",
    "    vgg_model = tensorflow.keras.applications.vgg16.VGG16(weights='imagenet', include_top=False, input_tensor=Input(shape=MODEL_INPSHAPE))\n",
    "\n",
    "    # Add Unfreezing last 4 layers for transfer learning\n",
    "    for layer in vgg_model.layers[:-4]:\n",
    "        layer.trainable = False\n",
    "\n",
    "    model = Sequential()\n",
    "    model.add(vgg_model)\n",
    "    model.add(Flatten())\n",
    "    model.add(Dense(256, activation='relu'))\n",
    "    model.add(Dropout(0.5))\n",
    "    model.add(Dense(NUM_LABELS, activation='softmax'))\n",
    "    \n",
    "    return model"
   ]
  },
  {
   "cell_type": "code",
   "execution_count": null,
   "id": "a6c7dd20",
   "metadata": {},
   "outputs": [],
   "source": [
    "model = create_vgg16_model\n",
    "model.summary()  "
   ]
  },
  {
   "cell_type": "code",
   "execution_count": null,
   "id": "77ad61a1",
   "metadata": {},
   "outputs": [],
   "source": [
    "model.compile(loss=\"categorical_crossentropy\", optimizer='adam', metrics=[\"accuracy\"])"
   ]
  },
  {
   "cell_type": "code",
   "execution_count": null,
   "id": "0cdf8a72",
   "metadata": {},
   "outputs": [],
   "source": [
    "#Checkpoint to save model\n",
    "model_checkpoint_callback = tf.keras.callbacks.ModelCheckpoint(\n",
    "    filepath='cnnvgg16.hdf5',\n",
    "    save_weights_only=True,\n",
    "    monitor='accuracy',\n",
    "    mode='max',\n",
    "    save_freq='epoch',\n",
    "    save_best_only=True)"
   ]
  },
  {
   "cell_type": "code",
   "execution_count": null,
   "id": "3e8879d4",
   "metadata": {},
   "outputs": [],
   "source": [
    "history = model.fit(train_gen, steps_per_epoch = train_gen.samples // BATCH_SIZE, \n",
    "                    validation_data = val_gen, validation_steps = val_gen.samples // BATCH_SIZE, \n",
    "                    epochs=20, callbacks=[model_checkpoint_callback])"
   ]
  },
  {
   "cell_type": "code",
   "execution_count": null,
   "id": "5d758872",
   "metadata": {},
   "outputs": [],
   "source": [
    "#Plot Graphs\n",
    "import plotly.graph_objects as go\n",
    "from plotly.subplots import make_subplots\n",
    "\n",
    "# Create figure with secondary y-axis\n",
    "fig = make_subplots(specs=[[{\"secondary_y\": True}]])\n",
    "\n",
    "# Add traces\n",
    "fig.add_trace(\n",
    "    go.Scatter( y=history.history['val_loss'], name=\"val_loss\"),\n",
    "    secondary_y=False,\n",
    ")\n",
    "\n",
    "fig.add_trace(\n",
    "    go.Scatter( y=history.history['loss'], name=\"loss\"),\n",
    "    secondary_y=False,\n",
    ")\n",
    "\n",
    "fig.add_trace(\n",
    "    go.Scatter( y=history.history['val_accuracy'], name=\"val accuracy\"),\n",
    "    secondary_y=True,\n",
    ")\n",
    "\n",
    "fig.add_trace(\n",
    "    go.Scatter( y=history.history['accuracy'], name=\"accuracy\"),\n",
    "    secondary_y=True,\n",
    ")\n",
    "\n",
    "# Add figure title\n",
    "fig.update_layout(\n",
    "    title_text=\"Loss/Accuracy of Sequential CNN Model\"\n",
    ")\n",
    "\n",
    "# Set x-axis title\n",
    "fig.update_xaxes(title_text=\"Epoch\")\n",
    "\n",
    "# Set y-axes titles\n",
    "fig.update_yaxes(title_text=\"<b>primary</b> Loss\", secondary_y=False)\n",
    "fig.update_yaxes(title_text=\"<b>secondary</b> Accuracy\", secondary_y=True)\n",
    "\n",
    "fig.show()\n"
   ]
  },
  {
   "cell_type": "code",
   "execution_count": null,
   "id": "4edcc277",
   "metadata": {},
   "outputs": [],
   "source": [
    "#Test Data\n",
    "test_imgs, test_labels = next(test_gen)\n",
    "predictions = model.predict(test_imgs)"
   ]
  }
 ],
 "metadata": {
  "kernelspec": {
   "display_name": "Python 3 (ipykernel)",
   "language": "python",
   "name": "python3"
  },
  "language_info": {
   "codemirror_mode": {
    "name": "ipython",
    "version": 3
   },
   "file_extension": ".py",
   "mimetype": "text/x-python",
   "name": "python",
   "nbconvert_exporter": "python",
   "pygments_lexer": "ipython3",
   "version": "3.10.6"
  }
 },
 "nbformat": 4,
 "nbformat_minor": 5
}
