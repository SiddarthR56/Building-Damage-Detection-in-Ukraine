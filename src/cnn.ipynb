{
 "cells": [
  {
   "cell_type": "code",
   "execution_count": 166,
   "metadata": {},
   "outputs": [],
   "source": [
    "import pandas as pd \n",
    "import os\n",
    "\n",
    "from sklearn.model_selection import train_test_split\n",
    "\n",
    "import cv2\n",
    "from PIL import Image\n",
    "\n",
    "from tqdm import tqdm"
   ]
  },
  {
   "attachments": {},
   "cell_type": "markdown",
   "metadata": {},
   "source": [
    "### Read data in & create train/test splits"
   ]
  },
  {
   "cell_type": "code",
   "execution_count": 167,
   "metadata": {},
   "outputs": [],
   "source": [
    "# get pathways \n",
    "\n",
    "dir_path = \"../data/classification_images/\"\n",
    "success_uids = os.listdir(dir_path)\n",
    "\n",
    "df = pd.read_csv('../data/building_data.csv')"
   ]
  },
  {
   "cell_type": "code",
   "execution_count": 168,
   "metadata": {},
   "outputs": [
    {
     "data": {
      "text/plain": [
       "no-damage        16068\n",
       "minor-damage      2082\n",
       "major-damage      1959\n",
       "destroyed         1877\n",
       "un-classified      598\n",
       "Name: classification, dtype: int64"
      ]
     },
     "execution_count": 168,
     "metadata": {},
     "output_type": "execute_result"
    }
   ],
   "source": [
    "df['label'] = df['classification'].map({'no-damage': 0, 'minor-damage': 1, 'major-damage': 2, 'destroyed': 3, 'un-classfied': 4})\n",
    "\n",
    "# These are the class labels we expect the CNN to be able to recognize\n",
    "df['classification'].value_counts()"
   ]
  },
  {
   "cell_type": "code",
   "execution_count": 169,
   "metadata": {},
   "outputs": [],
   "source": [
    "# create training/testing splits \n",
    "strat_train, strat_test = train_test_split(df, train_size=.8, stratify=df['classification'])\n",
    "strat_train.reset_index(inplace=True)\n",
    "strat_train['im'] = None\n",
    "strat_test.reset_index(inplace=True)\n",
    "strat_test['im'] = None"
   ]
  },
  {
   "attachments": {},
   "cell_type": "markdown",
   "metadata": {},
   "source": [
    "### Processing Data to correct shapes"
   ]
  },
  {
   "cell_type": "code",
   "execution_count": 170,
   "metadata": {},
   "outputs": [
    {
     "name": "stdout",
     "output_type": "stream",
     "text": [
      "Using CPU\n"
     ]
    }
   ],
   "source": [
    "import torch\n",
    "import tensorflow.keras as keras\n",
    "import numpy as np\n",
    "\n",
    "# Checking if CUDA is available\n",
    "flag_cuda = torch.cuda.is_available()\n",
    "\n",
    "if not flag_cuda:\n",
    "    print('Using CPU')\n",
    "else:\n",
    "    print('Using GPU')"
   ]
  },
  {
   "cell_type": "code",
   "execution_count": 171,
   "metadata": {},
   "outputs": [
    {
     "name": "stderr",
     "output_type": "stream",
     "text": [
      "  0%|          | 0/18067 [00:00<?, ?it/s]/var/folders/sx/gfq_y8592_bdyxcm2vgcj7dc0000gp/T/ipykernel_73178/3300374769.py:8: SettingWithCopyWarning: \n",
      "A value is trying to be set on a copy of a slice from a DataFrame\n",
      "\n",
      "See the caveats in the documentation: https://pandas.pydata.org/pandas-docs/stable/user_guide/indexing.html#returning-a-view-versus-a-copy\n",
      "  strat_train['im'][l] = img\n",
      "100%|██████████| 18067/18067 [03:50<00:00, 78.50it/s]\n"
     ]
    }
   ],
   "source": [
    "for l in tqdm(range(0, len(strat_train))): \n",
    "    path_image = '../data/train/images/' + strat_train['image_name'][l].split(\".json\")[0] + \".png\"\n",
    "    img = cv2.imread(path_image)\n",
    "\n",
    "    resize = cv2.resize(img, (34, 34), interpolation = cv2.INTER_AREA)\n",
    "    # resize = [item for sublist in resize for item in sublist]\n",
    "    img = resize / 255\n",
    "    strat_train['im'][l] = img"
   ]
  },
  {
   "cell_type": "code",
   "execution_count": 172,
   "metadata": {},
   "outputs": [
    {
     "name": "stdout",
     "output_type": "stream",
     "text": [
      "(34, 34, 3)\n"
     ]
    },
    {
     "data": {
      "text/plain": [
       "numpy.ndarray"
      ]
     },
     "execution_count": 172,
     "metadata": {},
     "output_type": "execute_result"
    }
   ],
   "source": [
    "print(strat_train['im'][0].shape)\n",
    "type(strat_train['im'][0])\n"
   ]
  },
  {
   "cell_type": "code",
   "execution_count": 173,
   "metadata": {},
   "outputs": [
    {
     "name": "stdout",
     "output_type": "stream",
     "text": [
      "This is the training data shape: \n"
     ]
    },
    {
     "data": {
      "text/plain": [
       "(18067, 34, 34, 3)"
      ]
     },
     "execution_count": 173,
     "metadata": {},
     "output_type": "execute_result"
    }
   ],
   "source": [
    "x_train = strat_train['im']\n",
    "x_train = np.concatenate(x_train).reshape(len(strat_train), 34, 34, 3)\n",
    "print(\"This is the training data shape: \")\n",
    "x_train.shape"
   ]
  },
  {
   "cell_type": "code",
   "execution_count": 174,
   "metadata": {},
   "outputs": [
    {
     "name": "stderr",
     "output_type": "stream",
     "text": [
      "  0%|          | 0/4517 [00:00<?, ?it/s]/var/folders/sx/gfq_y8592_bdyxcm2vgcj7dc0000gp/T/ipykernel_73178/1006357334.py:8: SettingWithCopyWarning: \n",
      "A value is trying to be set on a copy of a slice from a DataFrame\n",
      "\n",
      "See the caveats in the documentation: https://pandas.pydata.org/pandas-docs/stable/user_guide/indexing.html#returning-a-view-versus-a-copy\n",
      "  strat_test['im'][l] = img\n",
      "100%|██████████| 4517/4517 [00:56<00:00, 79.27it/s]\n"
     ]
    }
   ],
   "source": [
    "for l in tqdm(range(0, len(strat_test))): \n",
    "    path_image = '../data/train/images/' + strat_test['image_name'][l].split(\".json\")[0] + \".png\"\n",
    "    img = cv2.imread(path_image)\n",
    "\n",
    "    resize = cv2.resize(img, (34, 34), interpolation = cv2.INTER_AREA)\n",
    "    # resize = [item for sublist in resize for item in sublist]\n",
    "    img = resize / 255\n",
    "    strat_test['im'][l] = img"
   ]
  },
  {
   "cell_type": "code",
   "execution_count": 175,
   "metadata": {},
   "outputs": [
    {
     "name": "stdout",
     "output_type": "stream",
     "text": [
      "This is the training data shape: \n"
     ]
    },
    {
     "data": {
      "text/plain": [
       "(4517, 34, 34, 3)"
      ]
     },
     "execution_count": 175,
     "metadata": {},
     "output_type": "execute_result"
    }
   ],
   "source": [
    "x_test = strat_test['im']\n",
    "x_test = np.concatenate(x_test).reshape(len(strat_test), 34, 34, 3)\n",
    "print(\"This is the training data shape: \")\n",
    "x_test.shape"
   ]
  },
  {
   "cell_type": "code",
   "execution_count": 176,
   "metadata": {},
   "outputs": [
    {
     "name": "stderr",
     "output_type": "stream",
     "text": [
      "/Users/nakraft/Documents/school/CSC 591 - Neural Networks/my_venv/lib/python3.8/site-packages/pandas/core/series.py:893: RuntimeWarning: invalid value encountered in cast\n",
      "  return np.asarray(self._values, dtype)\n"
     ]
    }
   ],
   "source": [
    "# Turn our scalar targets into binary categories\n",
    "num_classes = 5\n",
    "y_train = keras.utils.to_categorical(strat_train['label'], num_classes)\n",
    "y_test = keras.utils.to_categorical(strat_test['label'], num_classes)"
   ]
  },
  {
   "attachments": {},
   "cell_type": "markdown",
   "metadata": {},
   "source": [
    "## Creating the CNN"
   ]
  },
  {
   "cell_type": "code",
   "execution_count": 177,
   "metadata": {},
   "outputs": [],
   "source": [
    "from tensorflow.keras.models import Sequential\n",
    "from tensorflow.keras.layers import (\n",
    "    Dense,\n",
    "    Conv2D,\n",
    "    MaxPool2D,\n",
    "    Flatten,\n",
    "    Dropout,\n",
    "    BatchNormalization,\n",
    ")\n",
    "\n",
    "model = Sequential()\n",
    "model.add(Conv2D(75, (3, 3), strides=1, padding=\"same\", activation=\"relu\", \n",
    "                 input_shape=(34, 34, 3)))\n",
    "model.add(BatchNormalization())\n",
    "model.add(MaxPool2D((2, 2), strides=2, padding=\"same\"))\n",
    "model.add(Conv2D(50, (3, 3), strides=1, padding=\"same\", activation=\"relu\"))\n",
    "model.add(Dropout(0.2))\n",
    "model.add(BatchNormalization())\n",
    "model.add(MaxPool2D((2, 2), strides=2, padding=\"same\"))\n",
    "model.add(Conv2D(25, (3, 3), strides=1, padding=\"same\", activation=\"relu\"))\n",
    "model.add(BatchNormalization())\n",
    "model.add(MaxPool2D((2, 2), strides=2, padding=\"same\"))\n",
    "model.add(Flatten())\n",
    "model.add(Dense(units=512, activation=\"relu\"))\n",
    "model.add(Dropout(0.3))\n",
    "model.add(Dense(units=num_classes, activation=\"softmax\"))"
   ]
  },
  {
   "cell_type": "code",
   "execution_count": 178,
   "metadata": {},
   "outputs": [
    {
     "name": "stdout",
     "output_type": "stream",
     "text": [
      "Model: \"sequential_1\"\n",
      "_________________________________________________________________\n",
      " Layer (type)                Output Shape              Param #   \n",
      "=================================================================\n",
      " conv2d_3 (Conv2D)           (None, 34, 34, 75)        2100      \n",
      "                                                                 \n",
      " batch_normalization_3 (Batc  (None, 34, 34, 75)       300       \n",
      " hNormalization)                                                 \n",
      "                                                                 \n",
      " max_pooling2d_3 (MaxPooling  (None, 17, 17, 75)       0         \n",
      " 2D)                                                             \n",
      "                                                                 \n",
      " conv2d_4 (Conv2D)           (None, 17, 17, 50)        33800     \n",
      "                                                                 \n",
      " dropout_2 (Dropout)         (None, 17, 17, 50)        0         \n",
      "                                                                 \n",
      " batch_normalization_4 (Batc  (None, 17, 17, 50)       200       \n",
      " hNormalization)                                                 \n",
      "                                                                 \n",
      " max_pooling2d_4 (MaxPooling  (None, 9, 9, 50)         0         \n",
      " 2D)                                                             \n",
      "                                                                 \n",
      " conv2d_5 (Conv2D)           (None, 9, 9, 25)          11275     \n",
      "                                                                 \n",
      " batch_normalization_5 (Batc  (None, 9, 9, 25)         100       \n",
      " hNormalization)                                                 \n",
      "                                                                 \n",
      " max_pooling2d_5 (MaxPooling  (None, 5, 5, 25)         0         \n",
      " 2D)                                                             \n",
      "                                                                 \n",
      " flatten_1 (Flatten)         (None, 625)               0         \n",
      "                                                                 \n",
      " dense_2 (Dense)             (None, 512)               320512    \n",
      "                                                                 \n",
      " dropout_3 (Dropout)         (None, 512)               0         \n",
      "                                                                 \n",
      " dense_3 (Dense)             (None, 5)                 2565      \n",
      "                                                                 \n",
      "=================================================================\n",
      "Total params: 370,852\n",
      "Trainable params: 370,552\n",
      "Non-trainable params: 300\n",
      "_________________________________________________________________\n"
     ]
    }
   ],
   "source": [
    "model.summary()"
   ]
  },
  {
   "cell_type": "code",
   "execution_count": 184,
   "metadata": {},
   "outputs": [],
   "source": [
    "model.compile(loss=\"categorical_crossentropy\", optimizer='adam', metrics=[\"accuracy\"])"
   ]
  },
  {
   "cell_type": "code",
   "execution_count": 185,
   "metadata": {},
   "outputs": [
    {
     "name": "stdout",
     "output_type": "stream",
     "text": [
      "Epoch 1/20\n",
      "565/565 [==============================] - 14s 23ms/step - loss: 0.8663 - accuracy: 0.7379 - val_loss: 0.8710 - val_accuracy: 0.7381\n",
      "Epoch 2/20\n",
      "565/565 [==============================] - 13s 22ms/step - loss: 0.8657 - accuracy: 0.7379 - val_loss: 0.8633 - val_accuracy: 0.7381\n",
      "Epoch 3/20\n",
      "565/565 [==============================] - 13s 23ms/step - loss: 0.8654 - accuracy: 0.7379 - val_loss: 0.8630 - val_accuracy: 0.7381\n",
      "Epoch 4/20\n",
      "565/565 [==============================] - 13s 24ms/step - loss: 0.8652 - accuracy: 0.7379 - val_loss: 0.8633 - val_accuracy: 0.7381\n",
      "Epoch 5/20\n",
      "565/565 [==============================] - 13s 23ms/step - loss: 0.8646 - accuracy: 0.7379 - val_loss: 0.8640 - val_accuracy: 0.7381\n",
      "Epoch 6/20\n",
      "565/565 [==============================] - 13s 23ms/step - loss: 0.8643 - accuracy: 0.7379 - val_loss: 0.8626 - val_accuracy: 0.7381\n",
      "Epoch 7/20\n",
      "565/565 [==============================] - 13s 23ms/step - loss: 0.8640 - accuracy: 0.7379 - val_loss: 0.8638 - val_accuracy: 0.7381\n",
      "Epoch 8/20\n",
      "565/565 [==============================] - 13s 23ms/step - loss: 0.8640 - accuracy: 0.7379 - val_loss: 0.8626 - val_accuracy: 0.7381\n",
      "Epoch 9/20\n",
      "565/565 [==============================] - 14s 24ms/step - loss: 0.8635 - accuracy: 0.7379 - val_loss: 0.8626 - val_accuracy: 0.7381\n",
      "Epoch 10/20\n",
      "565/565 [==============================] - 13s 24ms/step - loss: 0.8637 - accuracy: 0.7379 - val_loss: 0.8649 - val_accuracy: 0.7381\n",
      "Epoch 11/20\n",
      "565/565 [==============================] - 13s 23ms/step - loss: 0.8635 - accuracy: 0.7379 - val_loss: 0.8628 - val_accuracy: 0.7381\n",
      "Epoch 12/20\n",
      "565/565 [==============================] - 13s 23ms/step - loss: 0.8632 - accuracy: 0.7379 - val_loss: 0.8627 - val_accuracy: 0.7381\n",
      "Epoch 13/20\n",
      "565/565 [==============================] - 13s 24ms/step - loss: 0.8634 - accuracy: 0.7379 - val_loss: 0.8626 - val_accuracy: 0.7381\n",
      "Epoch 14/20\n",
      "565/565 [==============================] - 13s 23ms/step - loss: 0.8631 - accuracy: 0.7379 - val_loss: 0.8626 - val_accuracy: 0.7381\n",
      "Epoch 15/20\n",
      "565/565 [==============================] - 13s 24ms/step - loss: 0.8633 - accuracy: 0.7379 - val_loss: 0.8626 - val_accuracy: 0.7381\n",
      "Epoch 16/20\n",
      "565/565 [==============================] - 14s 25ms/step - loss: 0.8631 - accuracy: 0.7379 - val_loss: 0.8626 - val_accuracy: 0.7381\n",
      "Epoch 17/20\n",
      "565/565 [==============================] - 14s 24ms/step - loss: 0.8631 - accuracy: 0.7379 - val_loss: 0.8626 - val_accuracy: 0.7381\n",
      "Epoch 18/20\n",
      "565/565 [==============================] - 14s 24ms/step - loss: 0.8630 - accuracy: 0.7379 - val_loss: 0.8625 - val_accuracy: 0.7381\n",
      "Epoch 19/20\n",
      "565/565 [==============================] - 13s 23ms/step - loss: 0.8630 - accuracy: 0.7379 - val_loss: 0.8625 - val_accuracy: 0.7381\n",
      "Epoch 20/20\n",
      "565/565 [==============================] - 13s 23ms/step - loss: 0.8630 - accuracy: 0.7379 - val_loss: 0.8625 - val_accuracy: 0.7381\n"
     ]
    }
   ],
   "source": [
    "history = model.fit(x_train, y_train, epochs=20, verbose=1, validation_data=(x_test, y_test))"
   ]
  },
  {
   "cell_type": "code",
   "execution_count": 191,
   "metadata": {},
   "outputs": [
    {
     "data": {
      "application/vnd.plotly.v1+json": {
       "config": {
        "plotlyServerURL": "https://plot.ly"
       },
       "data": [
        {
         "name": "val_loss",
         "type": "scatter",
         "xaxis": "x",
         "y": [
          0.8709823489189148,
          0.8632771372795105,
          0.863014280796051,
          0.8632838726043701,
          0.8639997839927673,
          0.8626180291175842,
          0.8638204336166382,
          0.8626180291175842,
          0.8626476526260376,
          0.8649487495422363,
          0.8628348112106323,
          0.8627453446388245,
          0.8625665903091431,
          0.8625603318214417,
          0.8625974059104919,
          0.8625649809837341,
          0.8625525236129761,
          0.8625383377075195,
          0.862528920173645,
          0.8625427484512329
         ],
         "yaxis": "y"
        },
        {
         "name": "loss",
         "type": "scatter",
         "xaxis": "x",
         "y": [
          0.8663313388824463,
          0.8657075762748718,
          0.8654057383537292,
          0.8651987314224243,
          0.8646196126937866,
          0.8642523288726807,
          0.8640354871749878,
          0.8639782071113586,
          0.8634728789329529,
          0.8636820316314697,
          0.8635085225105286,
          0.8631975054740906,
          0.863358736038208,
          0.8631290793418884,
          0.8632596135139465,
          0.863096296787262,
          0.8630725741386414,
          0.8630059361457825,
          0.86299729347229,
          0.8629727959632874
         ],
         "yaxis": "y"
        },
        {
         "name": "val accuracy",
         "type": "scatter",
         "xaxis": "x",
         "y": [
          0.738100528717041,
          0.738100528717041,
          0.738100528717041,
          0.738100528717041,
          0.738100528717041,
          0.738100528717041,
          0.738100528717041,
          0.738100528717041,
          0.738100528717041,
          0.738100528717041,
          0.738100528717041,
          0.738100528717041,
          0.738100528717041,
          0.738100528717041,
          0.738100528717041,
          0.738100528717041,
          0.738100528717041,
          0.738100528717041,
          0.738100528717041,
          0.738100528717041
         ],
         "yaxis": "y2"
        },
        {
         "name": "accuracy",
         "type": "scatter",
         "xaxis": "x",
         "y": [
          0.7379199862480164,
          0.7379199862480164,
          0.7379199862480164,
          0.7379199862480164,
          0.7379199862480164,
          0.7379199862480164,
          0.7379199862480164,
          0.7379199862480164,
          0.7379199862480164,
          0.7379199862480164,
          0.7379199862480164,
          0.7379199862480164,
          0.7379199862480164,
          0.7379199862480164,
          0.7379199862480164,
          0.7379199862480164,
          0.7379199862480164,
          0.7379199862480164,
          0.7379199862480164,
          0.7379199862480164
         ],
         "yaxis": "y2"
        }
       ],
       "layout": {
        "template": {
         "data": {
          "bar": [
           {
            "error_x": {
             "color": "#2a3f5f"
            },
            "error_y": {
             "color": "#2a3f5f"
            },
            "marker": {
             "line": {
              "color": "#E5ECF6",
              "width": 0.5
             },
             "pattern": {
              "fillmode": "overlay",
              "size": 10,
              "solidity": 0.2
             }
            },
            "type": "bar"
           }
          ],
          "barpolar": [
           {
            "marker": {
             "line": {
              "color": "#E5ECF6",
              "width": 0.5
             },
             "pattern": {
              "fillmode": "overlay",
              "size": 10,
              "solidity": 0.2
             }
            },
            "type": "barpolar"
           }
          ],
          "carpet": [
           {
            "aaxis": {
             "endlinecolor": "#2a3f5f",
             "gridcolor": "white",
             "linecolor": "white",
             "minorgridcolor": "white",
             "startlinecolor": "#2a3f5f"
            },
            "baxis": {
             "endlinecolor": "#2a3f5f",
             "gridcolor": "white",
             "linecolor": "white",
             "minorgridcolor": "white",
             "startlinecolor": "#2a3f5f"
            },
            "type": "carpet"
           }
          ],
          "choropleth": [
           {
            "colorbar": {
             "outlinewidth": 0,
             "ticks": ""
            },
            "type": "choropleth"
           }
          ],
          "contour": [
           {
            "colorbar": {
             "outlinewidth": 0,
             "ticks": ""
            },
            "colorscale": [
             [
              0,
              "#0d0887"
             ],
             [
              0.1111111111111111,
              "#46039f"
             ],
             [
              0.2222222222222222,
              "#7201a8"
             ],
             [
              0.3333333333333333,
              "#9c179e"
             ],
             [
              0.4444444444444444,
              "#bd3786"
             ],
             [
              0.5555555555555556,
              "#d8576b"
             ],
             [
              0.6666666666666666,
              "#ed7953"
             ],
             [
              0.7777777777777778,
              "#fb9f3a"
             ],
             [
              0.8888888888888888,
              "#fdca26"
             ],
             [
              1,
              "#f0f921"
             ]
            ],
            "type": "contour"
           }
          ],
          "contourcarpet": [
           {
            "colorbar": {
             "outlinewidth": 0,
             "ticks": ""
            },
            "type": "contourcarpet"
           }
          ],
          "heatmap": [
           {
            "colorbar": {
             "outlinewidth": 0,
             "ticks": ""
            },
            "colorscale": [
             [
              0,
              "#0d0887"
             ],
             [
              0.1111111111111111,
              "#46039f"
             ],
             [
              0.2222222222222222,
              "#7201a8"
             ],
             [
              0.3333333333333333,
              "#9c179e"
             ],
             [
              0.4444444444444444,
              "#bd3786"
             ],
             [
              0.5555555555555556,
              "#d8576b"
             ],
             [
              0.6666666666666666,
              "#ed7953"
             ],
             [
              0.7777777777777778,
              "#fb9f3a"
             ],
             [
              0.8888888888888888,
              "#fdca26"
             ],
             [
              1,
              "#f0f921"
             ]
            ],
            "type": "heatmap"
           }
          ],
          "heatmapgl": [
           {
            "colorbar": {
             "outlinewidth": 0,
             "ticks": ""
            },
            "colorscale": [
             [
              0,
              "#0d0887"
             ],
             [
              0.1111111111111111,
              "#46039f"
             ],
             [
              0.2222222222222222,
              "#7201a8"
             ],
             [
              0.3333333333333333,
              "#9c179e"
             ],
             [
              0.4444444444444444,
              "#bd3786"
             ],
             [
              0.5555555555555556,
              "#d8576b"
             ],
             [
              0.6666666666666666,
              "#ed7953"
             ],
             [
              0.7777777777777778,
              "#fb9f3a"
             ],
             [
              0.8888888888888888,
              "#fdca26"
             ],
             [
              1,
              "#f0f921"
             ]
            ],
            "type": "heatmapgl"
           }
          ],
          "histogram": [
           {
            "marker": {
             "pattern": {
              "fillmode": "overlay",
              "size": 10,
              "solidity": 0.2
             }
            },
            "type": "histogram"
           }
          ],
          "histogram2d": [
           {
            "colorbar": {
             "outlinewidth": 0,
             "ticks": ""
            },
            "colorscale": [
             [
              0,
              "#0d0887"
             ],
             [
              0.1111111111111111,
              "#46039f"
             ],
             [
              0.2222222222222222,
              "#7201a8"
             ],
             [
              0.3333333333333333,
              "#9c179e"
             ],
             [
              0.4444444444444444,
              "#bd3786"
             ],
             [
              0.5555555555555556,
              "#d8576b"
             ],
             [
              0.6666666666666666,
              "#ed7953"
             ],
             [
              0.7777777777777778,
              "#fb9f3a"
             ],
             [
              0.8888888888888888,
              "#fdca26"
             ],
             [
              1,
              "#f0f921"
             ]
            ],
            "type": "histogram2d"
           }
          ],
          "histogram2dcontour": [
           {
            "colorbar": {
             "outlinewidth": 0,
             "ticks": ""
            },
            "colorscale": [
             [
              0,
              "#0d0887"
             ],
             [
              0.1111111111111111,
              "#46039f"
             ],
             [
              0.2222222222222222,
              "#7201a8"
             ],
             [
              0.3333333333333333,
              "#9c179e"
             ],
             [
              0.4444444444444444,
              "#bd3786"
             ],
             [
              0.5555555555555556,
              "#d8576b"
             ],
             [
              0.6666666666666666,
              "#ed7953"
             ],
             [
              0.7777777777777778,
              "#fb9f3a"
             ],
             [
              0.8888888888888888,
              "#fdca26"
             ],
             [
              1,
              "#f0f921"
             ]
            ],
            "type": "histogram2dcontour"
           }
          ],
          "mesh3d": [
           {
            "colorbar": {
             "outlinewidth": 0,
             "ticks": ""
            },
            "type": "mesh3d"
           }
          ],
          "parcoords": [
           {
            "line": {
             "colorbar": {
              "outlinewidth": 0,
              "ticks": ""
             }
            },
            "type": "parcoords"
           }
          ],
          "pie": [
           {
            "automargin": true,
            "type": "pie"
           }
          ],
          "scatter": [
           {
            "fillpattern": {
             "fillmode": "overlay",
             "size": 10,
             "solidity": 0.2
            },
            "type": "scatter"
           }
          ],
          "scatter3d": [
           {
            "line": {
             "colorbar": {
              "outlinewidth": 0,
              "ticks": ""
             }
            },
            "marker": {
             "colorbar": {
              "outlinewidth": 0,
              "ticks": ""
             }
            },
            "type": "scatter3d"
           }
          ],
          "scattercarpet": [
           {
            "marker": {
             "colorbar": {
              "outlinewidth": 0,
              "ticks": ""
             }
            },
            "type": "scattercarpet"
           }
          ],
          "scattergeo": [
           {
            "marker": {
             "colorbar": {
              "outlinewidth": 0,
              "ticks": ""
             }
            },
            "type": "scattergeo"
           }
          ],
          "scattergl": [
           {
            "marker": {
             "colorbar": {
              "outlinewidth": 0,
              "ticks": ""
             }
            },
            "type": "scattergl"
           }
          ],
          "scattermapbox": [
           {
            "marker": {
             "colorbar": {
              "outlinewidth": 0,
              "ticks": ""
             }
            },
            "type": "scattermapbox"
           }
          ],
          "scatterpolar": [
           {
            "marker": {
             "colorbar": {
              "outlinewidth": 0,
              "ticks": ""
             }
            },
            "type": "scatterpolar"
           }
          ],
          "scatterpolargl": [
           {
            "marker": {
             "colorbar": {
              "outlinewidth": 0,
              "ticks": ""
             }
            },
            "type": "scatterpolargl"
           }
          ],
          "scatterternary": [
           {
            "marker": {
             "colorbar": {
              "outlinewidth": 0,
              "ticks": ""
             }
            },
            "type": "scatterternary"
           }
          ],
          "surface": [
           {
            "colorbar": {
             "outlinewidth": 0,
             "ticks": ""
            },
            "colorscale": [
             [
              0,
              "#0d0887"
             ],
             [
              0.1111111111111111,
              "#46039f"
             ],
             [
              0.2222222222222222,
              "#7201a8"
             ],
             [
              0.3333333333333333,
              "#9c179e"
             ],
             [
              0.4444444444444444,
              "#bd3786"
             ],
             [
              0.5555555555555556,
              "#d8576b"
             ],
             [
              0.6666666666666666,
              "#ed7953"
             ],
             [
              0.7777777777777778,
              "#fb9f3a"
             ],
             [
              0.8888888888888888,
              "#fdca26"
             ],
             [
              1,
              "#f0f921"
             ]
            ],
            "type": "surface"
           }
          ],
          "table": [
           {
            "cells": {
             "fill": {
              "color": "#EBF0F8"
             },
             "line": {
              "color": "white"
             }
            },
            "header": {
             "fill": {
              "color": "#C8D4E3"
             },
             "line": {
              "color": "white"
             }
            },
            "type": "table"
           }
          ]
         },
         "layout": {
          "annotationdefaults": {
           "arrowcolor": "#2a3f5f",
           "arrowhead": 0,
           "arrowwidth": 1
          },
          "autotypenumbers": "strict",
          "coloraxis": {
           "colorbar": {
            "outlinewidth": 0,
            "ticks": ""
           }
          },
          "colorscale": {
           "diverging": [
            [
             0,
             "#8e0152"
            ],
            [
             0.1,
             "#c51b7d"
            ],
            [
             0.2,
             "#de77ae"
            ],
            [
             0.3,
             "#f1b6da"
            ],
            [
             0.4,
             "#fde0ef"
            ],
            [
             0.5,
             "#f7f7f7"
            ],
            [
             0.6,
             "#e6f5d0"
            ],
            [
             0.7,
             "#b8e186"
            ],
            [
             0.8,
             "#7fbc41"
            ],
            [
             0.9,
             "#4d9221"
            ],
            [
             1,
             "#276419"
            ]
           ],
           "sequential": [
            [
             0,
             "#0d0887"
            ],
            [
             0.1111111111111111,
             "#46039f"
            ],
            [
             0.2222222222222222,
             "#7201a8"
            ],
            [
             0.3333333333333333,
             "#9c179e"
            ],
            [
             0.4444444444444444,
             "#bd3786"
            ],
            [
             0.5555555555555556,
             "#d8576b"
            ],
            [
             0.6666666666666666,
             "#ed7953"
            ],
            [
             0.7777777777777778,
             "#fb9f3a"
            ],
            [
             0.8888888888888888,
             "#fdca26"
            ],
            [
             1,
             "#f0f921"
            ]
           ],
           "sequentialminus": [
            [
             0,
             "#0d0887"
            ],
            [
             0.1111111111111111,
             "#46039f"
            ],
            [
             0.2222222222222222,
             "#7201a8"
            ],
            [
             0.3333333333333333,
             "#9c179e"
            ],
            [
             0.4444444444444444,
             "#bd3786"
            ],
            [
             0.5555555555555556,
             "#d8576b"
            ],
            [
             0.6666666666666666,
             "#ed7953"
            ],
            [
             0.7777777777777778,
             "#fb9f3a"
            ],
            [
             0.8888888888888888,
             "#fdca26"
            ],
            [
             1,
             "#f0f921"
            ]
           ]
          },
          "colorway": [
           "#636efa",
           "#EF553B",
           "#00cc96",
           "#ab63fa",
           "#FFA15A",
           "#19d3f3",
           "#FF6692",
           "#B6E880",
           "#FF97FF",
           "#FECB52"
          ],
          "font": {
           "color": "#2a3f5f"
          },
          "geo": {
           "bgcolor": "white",
           "lakecolor": "white",
           "landcolor": "#E5ECF6",
           "showlakes": true,
           "showland": true,
           "subunitcolor": "white"
          },
          "hoverlabel": {
           "align": "left"
          },
          "hovermode": "closest",
          "mapbox": {
           "style": "light"
          },
          "paper_bgcolor": "white",
          "plot_bgcolor": "#E5ECF6",
          "polar": {
           "angularaxis": {
            "gridcolor": "white",
            "linecolor": "white",
            "ticks": ""
           },
           "bgcolor": "#E5ECF6",
           "radialaxis": {
            "gridcolor": "white",
            "linecolor": "white",
            "ticks": ""
           }
          },
          "scene": {
           "xaxis": {
            "backgroundcolor": "#E5ECF6",
            "gridcolor": "white",
            "gridwidth": 2,
            "linecolor": "white",
            "showbackground": true,
            "ticks": "",
            "zerolinecolor": "white"
           },
           "yaxis": {
            "backgroundcolor": "#E5ECF6",
            "gridcolor": "white",
            "gridwidth": 2,
            "linecolor": "white",
            "showbackground": true,
            "ticks": "",
            "zerolinecolor": "white"
           },
           "zaxis": {
            "backgroundcolor": "#E5ECF6",
            "gridcolor": "white",
            "gridwidth": 2,
            "linecolor": "white",
            "showbackground": true,
            "ticks": "",
            "zerolinecolor": "white"
           }
          },
          "shapedefaults": {
           "line": {
            "color": "#2a3f5f"
           }
          },
          "ternary": {
           "aaxis": {
            "gridcolor": "white",
            "linecolor": "white",
            "ticks": ""
           },
           "baxis": {
            "gridcolor": "white",
            "linecolor": "white",
            "ticks": ""
           },
           "bgcolor": "#E5ECF6",
           "caxis": {
            "gridcolor": "white",
            "linecolor": "white",
            "ticks": ""
           }
          },
          "title": {
           "x": 0.05
          },
          "xaxis": {
           "automargin": true,
           "gridcolor": "white",
           "linecolor": "white",
           "ticks": "",
           "title": {
            "standoff": 15
           },
           "zerolinecolor": "white",
           "zerolinewidth": 2
          },
          "yaxis": {
           "automargin": true,
           "gridcolor": "white",
           "linecolor": "white",
           "ticks": "",
           "title": {
            "standoff": 15
           },
           "zerolinecolor": "white",
           "zerolinewidth": 2
          }
         }
        },
        "title": {
         "text": "Loss/Accuracy of Sequential CNN Model"
        },
        "xaxis": {
         "anchor": "y",
         "domain": [
          0,
          0.94
         ],
         "title": {
          "text": "Epoch"
         }
        },
        "yaxis": {
         "anchor": "x",
         "domain": [
          0,
          1
         ],
         "title": {
          "text": "<b>primary</b> Loss"
         }
        },
        "yaxis2": {
         "anchor": "x",
         "overlaying": "y",
         "side": "right",
         "title": {
          "text": "<b>secondary</b> Accuracy"
         }
        }
       }
      }
     },
     "metadata": {},
     "output_type": "display_data"
    }
   ],
   "source": [
    "import plotly.graph_objects as go\n",
    "from plotly.subplots import make_subplots\n",
    "\n",
    "# Create figure with secondary y-axis\n",
    "fig = make_subplots(specs=[[{\"secondary_y\": True}]])\n",
    "\n",
    "# Add traces\n",
    "fig.add_trace(\n",
    "    go.Scatter( y=history.history['val_loss'], name=\"val_loss\"),\n",
    "    secondary_y=False,\n",
    ")\n",
    "\n",
    "fig.add_trace(\n",
    "    go.Scatter( y=history.history['loss'], name=\"loss\"),\n",
    "    secondary_y=False,\n",
    ")\n",
    "\n",
    "fig.add_trace(\n",
    "    go.Scatter( y=history.history['val_accuracy'], name=\"val accuracy\"),\n",
    "    secondary_y=True,\n",
    ")\n",
    "\n",
    "fig.add_trace(\n",
    "    go.Scatter( y=history.history['accuracy'], name=\"accuracy\"),\n",
    "    secondary_y=True,\n",
    ")\n",
    "\n",
    "# Add figure title\n",
    "fig.update_layout(\n",
    "    title_text=\"Loss/Accuracy of Sequential CNN Model\"\n",
    ")\n",
    "\n",
    "# Set x-axis title\n",
    "fig.update_xaxes(title_text=\"Epoch\")\n",
    "\n",
    "# Set y-axes titles\n",
    "fig.update_yaxes(title_text=\"<b>primary</b> Loss\", secondary_y=False)\n",
    "fig.update_yaxes(title_text=\"<b>secondary</b> Accuracy\", secondary_y=True)\n",
    "\n",
    "fig.show()\n"
   ]
  }
 ],
 "metadata": {
  "kernelspec": {
   "display_name": "my_venv",
   "language": "python",
   "name": "my_venv"
  },
  "language_info": {
   "codemirror_mode": {
    "name": "ipython",
    "version": 3
   },
   "file_extension": ".py",
   "mimetype": "text/x-python",
   "name": "python",
   "nbconvert_exporter": "python",
   "pygments_lexer": "ipython3",
   "version": "3.8.9"
  },
  "orig_nbformat": 4
 },
 "nbformat": 4,
 "nbformat_minor": 2
}
